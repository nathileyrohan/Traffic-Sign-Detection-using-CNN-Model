{
 "cells": [
  {
   "cell_type": "markdown",
   "metadata": {},
   "source": [
    "# Traffic Sign Detection using Convolutional Neural Network"
   ]
  },
  {
   "cell_type": "markdown",
   "metadata": {},
   "source": [
    "- Developed a Deep Convolutional Neural Network Model that classifies the images of traffic signs. \n",
    "- Trained the model using the German Traffic Sign Dataset.\n",
    "- Implemented the Convolutional Neural Network Model based on **LeNet Architecture**.\n",
    "- The model successfully detected and classified the images of traffic signs into 43 different classes.\n",
    "- Classes are as listed below: \n",
    "\n",
    "    - 0 - Speed limit (20km/h)\n",
    "    - 1 - Speed limit (30km/h)\n",
    "    - 2 - Speed limit (50km/h) \n",
    "    - 3 - Speed limit (60km/h)\n",
    "    - 4 - Speed limit (70km/h)\n",
    "    - 5 - Speed limit (80km/h)\n",
    "    - 6 - End of speed limit (80km/h) \n",
    "    - 7 - Speed limit (100km/h)\n",
    "    - 8 - Speed limit (120km/h) \n",
    "    - 9 - No passing\n",
    "    - 10 - No passing for vehicles over 3.5 metric tons\n",
    "    - 11 - Right-of-way at the next intersection\n",
    "    - 12 - Priority road\n",
    "    - 13 - Yield \n",
    "    - 14 - Stop\n",
    "    - 15 - No vehicles\n",
    "    - 16 - Vehicles over 3.5 metric tons prohibited \n",
    "    - 17 - No entry\n",
    "    - 18 - General caution \n",
    "    - 19 - Dangerous curve to the left\n",
    "    - 20 - Dangerous curve to the right \n",
    "    - 21 - Double curve\n",
    "    - 22 - Bumpy road\n",
    "    - 23 - Slippery road\n",
    "    - 24 - Road narrows on the right \n",
    "    - 25 - Road work\n",
    "    - 26 - Traffic signals \n",
    "    - 27 - Pedestrians \n",
    "    - 28 - Children crossing\n",
    "    - 29 - Bicycles crossing\n",
    "    - 30 - Beware of ice/snow\n",
    "    - 31 - Wild animals crossing\n",
    "    - 32 - End of all speed and passing limits\n",
    "    - 33 - Turn right ahead\n",
    "    - 34 - Turn left ahead \n",
    "    - 35 - Ahead only \n",
    "    - 36 - Go straight or right\n",
    "    - 37 - Go straight or left\n",
    "    - 38 - Keep right \n",
    "    - 39 - Keep left\n",
    "    - 40 - Roundabout mandatory\n",
    "    - 41 - End of no passing\n",
    "    - 42 - End of no passing by vehicles over 3.5 metric tons"
   ]
  },
  {
   "cell_type": "markdown",
   "metadata": {},
   "source": [
    "# LeNet Architecture CNN Model (Description)"
   ]
  },
  {
   "cell_type": "markdown",
   "metadata": {},
   "source": [
    "The LeNet Architecture Model consists of the following layers: \n",
    "\n",
    "- STEP 1: THE FIRST CONVOLUTIONAL LAYER #1\n",
    "    - Input = 32x32x1\n",
    "    - Output = 28x28x6\n",
    "    - Used a 5x5 Filter with output depth of 6\n",
    "    - Stride is the amount by which the filter/kernel is shifted when the filter is passed over the image\n",
    "    - Output = (Input-Filter+1)/Stride => (32-5+1)/1 = 28\n",
    "    - Apply a RELU (Rectified Linear Unit) Activation function to the output\n",
    "    - Max Pooling for input, Input = 28x28x6 and Output = 14x14x6\n",
    "\n",
    "\n",
    "- STEP 2: THE SECOND CONVOLUTIONAL LAYER #2\n",
    "    - Input = 14x14x6\n",
    "    - Output = 10x10x16\n",
    "    - Used a 5x5 Filter with output depth of 16\n",
    "    - Layer 2: Convolutional layer with Output = 10x10x16\n",
    "    - Output = (Input-filter+1)/strides => 14-5+1/1 = 10\n",
    "    - Apply a RELU Activation function to the output\n",
    "    - Max Pooling with Input = 10x10x16 and Output = 5x5x16\n",
    "    \n",
    "\n",
    "- STEP 3: FLATTENING THE NETWORK\n",
    "    - Flatten the network with Input = 5x5x16 and Output = 400\n",
    "    \n",
    "\n",
    "- STEP 4: FULLY CONNECTED LAYER 1\n",
    "    - Layer 3: Fully Connected layer with Input = 400 and Output = 120\n",
    "    - Apply a RELU Activation function to the output\n",
    "    \n",
    "\n",
    "- STEP 5: FULLY CONNECTED LAYER 2\n",
    "    - Layer 4: Fully Connected Layer with Input = 120 and Output = 84\n",
    "    - Apply a RELU Activation function to the output\n",
    "    \n",
    "\n",
    "- STEP 6: FULLY CONNECTED LAYER 3\n",
    "    - Layer 5: Fully Connected layer with Input = 84 and Output = 43\n",
    "    "
   ]
  }
 ],
 "metadata": {
  "kernelspec": {
   "display_name": "Python 3",
   "language": "python",
   "name": "python3"
  },
  "language_info": {
   "codemirror_mode": {
    "name": "ipython",
    "version": 3
   },
   "file_extension": ".py",
   "mimetype": "text/x-python",
   "name": "python",
   "nbconvert_exporter": "python",
   "pygments_lexer": "ipython3",
   "version": "3.7.7"
  }
 },
 "nbformat": 4,
 "nbformat_minor": 4
}
